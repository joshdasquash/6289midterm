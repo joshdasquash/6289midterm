{
  "nbformat": 4,
  "nbformat_minor": 0,
  "metadata": {
    "colab": {
      "provenance": [],
      "gpuType": "T4"
    },
    "kernelspec": {
      "name": "python3",
      "display_name": "Python 3"
    },
    "language_info": {
      "name": "python"
    },
    "accelerator": "GPU"
  },
  "cells": [
    {
      "cell_type": "markdown",
      "source": [
        "# Midterm Project: Classifying German Traffic Signs\n",
        "\n",
        "I develop a convolutional neural network (CNN) to classify the German Traffic Sign Dataset. The practical implications of this kind of work can be significant, especially in developing self-driving cars or robots that may be able to assess and interpret their surroundings.\n",
        "\n",
        "I learn from an approach taken in this [this article](https://medium.com/analytics-vidhya/german-traffic-sign-recognition-benchmark-5477ca13daa0) but impose a number of modifications, taking advantage of tools I learn [here](https://towardsdatascience.com/keras-data-generators-and-how-to-use-them-b69129ed779c) and [here](https://towardsdatascience.com/building-a-convolutional-neural-network-cnn-in-keras-329fbbadc5f5):\n",
        "\n",
        "1. I code up the data intake and modification differently.\n",
        "2. I remove the cross-validation step and simplify the process, with the goal of hitting the optimal 95% with fewer steps.\n",
        "3. I use different image data generator.\n",
        "4. I use a modified CNN model.\n",
        "\n",
        "Below, I import the libraries for the exercise."
      ],
      "metadata": {
        "id": "hqk2eromLQOs"
      }
    },
    {
      "cell_type": "code",
      "execution_count": 1,
      "metadata": {
        "id": "rC8QvYcCoMVQ"
      },
      "outputs": [],
      "source": [
        "import pandas as pd\n",
        "import numpy as np\n",
        "import random\n",
        "import math\n",
        "import cv2\n",
        "import os\n",
        "import shutil\n",
        "from google.colab import files\n",
        "import pathlib\n",
        "import keras\n",
        "from keras.preprocessing.image import ImageDataGenerator\n",
        "from keras.models import Sequential\n",
        "from keras.layers import Dense, Dropout, Activation, Flatten\n",
        "from keras.layers import Conv2D, MaxPooling2D"
      ]
    },
    {
      "cell_type": "markdown",
      "source": [
        "## Part 1: Data Intake and Transformation\n",
        "\n",
        "First, we intake the data from kaggle and import it into Colab after uploading a relevant API key."
      ],
      "metadata": {
        "id": "63JXL9Eloacd"
      }
    },
    {
      "cell_type": "code",
      "source": [
        "files.upload()\n",
        "!mkdir -p ~/.kaggle\n",
        "!cp kaggle.json ~/.kaggle/\n",
        "!ls ~/.kaggle\n",
        "\n",
        "!kaggle datasets download -d meowmeowmeowmeowmeow/gtsrb-german-traffic-sign\n",
        "!unzip -q /content/gtsrb-german-traffic-sign.zip -d dataset\n"
      ],
      "metadata": {
        "colab": {
          "base_uri": "https://localhost:8080/",
          "height": 163
        },
        "id": "hiXK81BCobzT",
        "outputId": "283b1283-ba06-4ee8-ea8b-90807979b47c"
      },
      "execution_count": 2,
      "outputs": [
        {
          "output_type": "display_data",
          "data": {
            "text/plain": [
              "<IPython.core.display.HTML object>"
            ],
            "text/html": [
              "\n",
              "     <input type=\"file\" id=\"files-29823f6d-a370-4fca-b1e5-16a997e4547e\" name=\"files[]\" multiple disabled\n",
              "        style=\"border:none\" />\n",
              "     <output id=\"result-29823f6d-a370-4fca-b1e5-16a997e4547e\">\n",
              "      Upload widget is only available when the cell has been executed in the\n",
              "      current browser session. Please rerun this cell to enable.\n",
              "      </output>\n",
              "      <script>// Copyright 2017 Google LLC\n",
              "//\n",
              "// Licensed under the Apache License, Version 2.0 (the \"License\");\n",
              "// you may not use this file except in compliance with the License.\n",
              "// You may obtain a copy of the License at\n",
              "//\n",
              "//      http://www.apache.org/licenses/LICENSE-2.0\n",
              "//\n",
              "// Unless required by applicable law or agreed to in writing, software\n",
              "// distributed under the License is distributed on an \"AS IS\" BASIS,\n",
              "// WITHOUT WARRANTIES OR CONDITIONS OF ANY KIND, either express or implied.\n",
              "// See the License for the specific language governing permissions and\n",
              "// limitations under the License.\n",
              "\n",
              "/**\n",
              " * @fileoverview Helpers for google.colab Python module.\n",
              " */\n",
              "(function(scope) {\n",
              "function span(text, styleAttributes = {}) {\n",
              "  const element = document.createElement('span');\n",
              "  element.textContent = text;\n",
              "  for (const key of Object.keys(styleAttributes)) {\n",
              "    element.style[key] = styleAttributes[key];\n",
              "  }\n",
              "  return element;\n",
              "}\n",
              "\n",
              "// Max number of bytes which will be uploaded at a time.\n",
              "const MAX_PAYLOAD_SIZE = 100 * 1024;\n",
              "\n",
              "function _uploadFiles(inputId, outputId) {\n",
              "  const steps = uploadFilesStep(inputId, outputId);\n",
              "  const outputElement = document.getElementById(outputId);\n",
              "  // Cache steps on the outputElement to make it available for the next call\n",
              "  // to uploadFilesContinue from Python.\n",
              "  outputElement.steps = steps;\n",
              "\n",
              "  return _uploadFilesContinue(outputId);\n",
              "}\n",
              "\n",
              "// This is roughly an async generator (not supported in the browser yet),\n",
              "// where there are multiple asynchronous steps and the Python side is going\n",
              "// to poll for completion of each step.\n",
              "// This uses a Promise to block the python side on completion of each step,\n",
              "// then passes the result of the previous step as the input to the next step.\n",
              "function _uploadFilesContinue(outputId) {\n",
              "  const outputElement = document.getElementById(outputId);\n",
              "  const steps = outputElement.steps;\n",
              "\n",
              "  const next = steps.next(outputElement.lastPromiseValue);\n",
              "  return Promise.resolve(next.value.promise).then((value) => {\n",
              "    // Cache the last promise value to make it available to the next\n",
              "    // step of the generator.\n",
              "    outputElement.lastPromiseValue = value;\n",
              "    return next.value.response;\n",
              "  });\n",
              "}\n",
              "\n",
              "/**\n",
              " * Generator function which is called between each async step of the upload\n",
              " * process.\n",
              " * @param {string} inputId Element ID of the input file picker element.\n",
              " * @param {string} outputId Element ID of the output display.\n",
              " * @return {!Iterable<!Object>} Iterable of next steps.\n",
              " */\n",
              "function* uploadFilesStep(inputId, outputId) {\n",
              "  const inputElement = document.getElementById(inputId);\n",
              "  inputElement.disabled = false;\n",
              "\n",
              "  const outputElement = document.getElementById(outputId);\n",
              "  outputElement.innerHTML = '';\n",
              "\n",
              "  const pickedPromise = new Promise((resolve) => {\n",
              "    inputElement.addEventListener('change', (e) => {\n",
              "      resolve(e.target.files);\n",
              "    });\n",
              "  });\n",
              "\n",
              "  const cancel = document.createElement('button');\n",
              "  inputElement.parentElement.appendChild(cancel);\n",
              "  cancel.textContent = 'Cancel upload';\n",
              "  const cancelPromise = new Promise((resolve) => {\n",
              "    cancel.onclick = () => {\n",
              "      resolve(null);\n",
              "    };\n",
              "  });\n",
              "\n",
              "  // Wait for the user to pick the files.\n",
              "  const files = yield {\n",
              "    promise: Promise.race([pickedPromise, cancelPromise]),\n",
              "    response: {\n",
              "      action: 'starting',\n",
              "    }\n",
              "  };\n",
              "\n",
              "  cancel.remove();\n",
              "\n",
              "  // Disable the input element since further picks are not allowed.\n",
              "  inputElement.disabled = true;\n",
              "\n",
              "  if (!files) {\n",
              "    return {\n",
              "      response: {\n",
              "        action: 'complete',\n",
              "      }\n",
              "    };\n",
              "  }\n",
              "\n",
              "  for (const file of files) {\n",
              "    const li = document.createElement('li');\n",
              "    li.append(span(file.name, {fontWeight: 'bold'}));\n",
              "    li.append(span(\n",
              "        `(${file.type || 'n/a'}) - ${file.size} bytes, ` +\n",
              "        `last modified: ${\n",
              "            file.lastModifiedDate ? file.lastModifiedDate.toLocaleDateString() :\n",
              "                                    'n/a'} - `));\n",
              "    const percent = span('0% done');\n",
              "    li.appendChild(percent);\n",
              "\n",
              "    outputElement.appendChild(li);\n",
              "\n",
              "    const fileDataPromise = new Promise((resolve) => {\n",
              "      const reader = new FileReader();\n",
              "      reader.onload = (e) => {\n",
              "        resolve(e.target.result);\n",
              "      };\n",
              "      reader.readAsArrayBuffer(file);\n",
              "    });\n",
              "    // Wait for the data to be ready.\n",
              "    let fileData = yield {\n",
              "      promise: fileDataPromise,\n",
              "      response: {\n",
              "        action: 'continue',\n",
              "      }\n",
              "    };\n",
              "\n",
              "    // Use a chunked sending to avoid message size limits. See b/62115660.\n",
              "    let position = 0;\n",
              "    do {\n",
              "      const length = Math.min(fileData.byteLength - position, MAX_PAYLOAD_SIZE);\n",
              "      const chunk = new Uint8Array(fileData, position, length);\n",
              "      position += length;\n",
              "\n",
              "      const base64 = btoa(String.fromCharCode.apply(null, chunk));\n",
              "      yield {\n",
              "        response: {\n",
              "          action: 'append',\n",
              "          file: file.name,\n",
              "          data: base64,\n",
              "        },\n",
              "      };\n",
              "\n",
              "      let percentDone = fileData.byteLength === 0 ?\n",
              "          100 :\n",
              "          Math.round((position / fileData.byteLength) * 100);\n",
              "      percent.textContent = `${percentDone}% done`;\n",
              "\n",
              "    } while (position < fileData.byteLength);\n",
              "  }\n",
              "\n",
              "  // All done.\n",
              "  yield {\n",
              "    response: {\n",
              "      action: 'complete',\n",
              "    }\n",
              "  };\n",
              "}\n",
              "\n",
              "scope.google = scope.google || {};\n",
              "scope.google.colab = scope.google.colab || {};\n",
              "scope.google.colab._files = {\n",
              "  _uploadFiles,\n",
              "  _uploadFilesContinue,\n",
              "};\n",
              "})(self);\n",
              "</script> "
            ]
          },
          "metadata": {}
        },
        {
          "output_type": "stream",
          "name": "stdout",
          "text": [
            "Saving kaggle.json to kaggle.json\n",
            "kaggle.json\n",
            "Warning: Your Kaggle API key is readable by other users on this system! To fix this, you can run 'chmod 600 /root/.kaggle/kaggle.json'\n",
            "Downloading gtsrb-german-traffic-sign.zip to /content\n",
            " 97% 593M/612M [00:05<00:00, 115MB/s]\n",
            "100% 612M/612M [00:05<00:00, 109MB/s]\n"
          ]
        }
      ]
    },
    {
      "cell_type": "markdown",
      "source": [
        "Next, we list out the paths to all of the relevant files and perform different transformations on them so we can run our CNN model on them.\n",
        "\n",
        "For the y-variable cases (the labels), we convert them from a list of numbers (referring to the class) to ndarrays in categorical format. For example, we would have a value of 2 become $[0, 0, 1, 0 \\dots, 0].$"
      ],
      "metadata": {
        "id": "AG-AV1HudiIB"
      }
    },
    {
      "cell_type": "code",
      "source": [
        "# variables defining width, height, channels, epochs, etc\n",
        "width = 32\n",
        "height = 32\n",
        "channels = 3\n",
        "epochs = 40\n",
        "num_classes = 43\n",
        "\n",
        "train_csv = pd.read_csv(\"/content/dataset/Train.csv\")\n",
        "y_train = keras.utils.to_categorical(train_csv[\"ClassId\"], num_classes)\n",
        "train_paths = \"/content/dataset/\"+ train_csv[\"Path\"]\n",
        "\n",
        "test_csv = pd.read_csv(\"/content/dataset/Test.csv\")\n",
        "y_test = keras.utils.to_categorical(test_csv[\"ClassId\"], num_classes)\n",
        "test_paths = \"/content/dataset/\"+ test_csv[\"Path\"]"
      ],
      "metadata": {
        "id": "B_FrGxaZotwp"
      },
      "execution_count": 4,
      "outputs": []
    },
    {
      "cell_type": "markdown",
      "source": [
        "For the x-variable cases (the pictures), we convert them from .png files to ndarrays with width and height of 32."
      ],
      "metadata": {
        "id": "y_qul_xMcQon"
      }
    },
    {
      "cell_type": "code",
      "source": [
        "test_images = []\n",
        "train_images = []\n",
        "\n",
        "# convert and resize .png files\n",
        "for i in range(len(test_paths)):\n",
        "  image = cv2.imread(test_paths[i])\n",
        "  image = cv2.resize(image, (height,width))\n",
        "  image = image / 255\n",
        "  test_images.append(image)\n",
        "\n",
        "x_test = np.array(test_images)\n",
        "\n",
        "for i in range(len(train_paths)):\n",
        "  image = cv2.imread(train_paths[i])\n",
        "  image = cv2.resize(image, (height,width))\n",
        "  image = image / 255\n",
        "  train_images.append(image)\n",
        "\n",
        "x_train = np.array(train_images)\n",
        "\n",
        "# convert to float32\n",
        "x_test = x_test.astype('float32')\n",
        "x_train = x_train.astype('float32')"
      ],
      "metadata": {
        "id": "ByjJkmOGrLqJ"
      },
      "execution_count": 5,
      "outputs": []
    },
    {
      "cell_type": "markdown",
      "source": [
        "## Part 2: Data Generation and Model\n",
        "\n",
        "We use a simple image data generator using the tool from the keras package and apply some simple data transforms."
      ],
      "metadata": {
        "id": "BIPRDW7fdt0K"
      }
    },
    {
      "metadata": {
        "id": "tuQEui0xF0f_"
      },
      "cell_type": "code",
      "source": [
        "datagen = ImageDataGenerator(width_shift_range = 0.1,\n",
        "                             height_shift_range = 0.1,\n",
        "                             zoom_range = 0.1,\n",
        "                             shear_range = 0.1,\n",
        "                             rotation_range = 10)\n",
        "\n",
        "datagen.fit(x_train)"
      ],
      "execution_count": 6,
      "outputs": []
    },
    {
      "cell_type": "markdown",
      "source": [
        "Next, we develop simple batches (using batch size of 20)."
      ],
      "metadata": {
        "id": "e-zLSAQRd_Bb"
      }
    },
    {
      "cell_type": "code",
      "source": [
        "batches = datagen.flow(x_train, y_train, batch_size = 20)\n",
        "x_batch, y_batch = next(batches)"
      ],
      "metadata": {
        "id": "zp0JACVa1Ia9"
      },
      "execution_count": 7,
      "outputs": []
    },
    {
      "cell_type": "markdown",
      "source": [
        "Then, we produce a model. This is similar to the default model given for keras but we add an additional set of convolutions and pooling for additional simplification."
      ],
      "metadata": {
        "id": "YEQqGoMqeDIR"
      }
    },
    {
      "cell_type": "code",
      "source": [
        "model = Sequential()\n",
        "model.add(Conv2D(32, (3, 3), padding='same',\n",
        "    input_shape=x_train.shape[1:]))\n",
        "model.add(Activation('relu'))\n",
        "model.add(Conv2D(32, (3, 3)))\n",
        "model.add(Activation('relu'))\n",
        "model.add(MaxPooling2D(pool_size=(2, 2)))\n",
        "model.add(Dropout(0.25))\n",
        "\n",
        "model.add(Conv2D(64, (3, 3), padding='same'))\n",
        "model.add(Activation('relu'))\n",
        "model.add(Conv2D(64, (3, 3)))\n",
        "model.add(Activation('relu'))\n",
        "model.add(MaxPooling2D(pool_size=(2, 2)))\n",
        "model.add(Dropout(0.25))\n",
        "\n",
        "model.add(Conv2D(64, (3, 3), padding='same'))\n",
        "model.add(Activation('relu'))\n",
        "model.add(Conv2D(64, (3, 3)))\n",
        "model.add(Activation('relu'))\n",
        "model.add(MaxPooling2D(pool_size=(2, 2)))\n",
        "model.add(Dropout(0.25))\n",
        "\n",
        "model.add(Flatten())\n",
        "model.add(Dense(512))\n",
        "model.add(Activation('relu'))\n",
        "model.add(Dropout(0.5))\n",
        "model.add(Dense(num_classes))\n",
        "model.add(Activation('softmax'))"
      ],
      "metadata": {
        "id": "GNTITbNM3PjK"
      },
      "execution_count": 8,
      "outputs": []
    },
    {
      "cell_type": "markdown",
      "source": [
        "Finally, we initiate the RMSprop optimizer, train the model, and then run the model on the training dataset and the testing dataset. We aim for at least 95% validation accuracy."
      ],
      "metadata": {
        "id": "4hoynA3ceSQ3"
      }
    },
    {
      "cell_type": "code",
      "source": [
        "# optimizer and model training\n",
        "opt = keras.optimizers.legacy.RMSprop(learning_rate=0.0001, decay=1e-6)\n",
        "model.compile(loss='categorical_crossentropy',\n",
        "              optimizer=opt,\n",
        "              metrics=['accuracy'])\n",
        "\n",
        "# running the model\n",
        "history = model.fit_generator(datagen.flow(x_train, y_train, batch_size = 20),\n",
        "                              steps_per_epoch = 1950,\n",
        "                              epochs = 20,\n",
        "                              validation_data =(x_test, y_test),\n",
        "                              shuffle = 1)"
      ],
      "metadata": {
        "id": "J6aMg1Er56pQ",
        "colab": {
          "base_uri": "https://localhost:8080/"
        },
        "outputId": "cefcf63d-9598-4aab-9b85-3201e535e328"
      },
      "execution_count": 11,
      "outputs": [
        {
          "output_type": "stream",
          "name": "stdout",
          "text": [
            "Epoch 1/20\n",
            "1950/1950 [==============================] - 40s 20ms/step - loss: 3.2353 - accuracy: 0.1187 - val_loss: 2.5784 - val_accuracy: 0.2737\n",
            "Epoch 2/20\n",
            "1950/1950 [==============================] - 37s 19ms/step - loss: 2.2297 - accuracy: 0.3432 - val_loss: 1.6914 - val_accuracy: 0.4499\n",
            "Epoch 3/20\n",
            "1950/1950 [==============================] - 36s 18ms/step - loss: 1.6768 - accuracy: 0.4585 - val_loss: 1.3075 - val_accuracy: 0.5872\n",
            "Epoch 4/20\n",
            "1950/1950 [==============================] - 37s 19ms/step - loss: 1.3297 - accuracy: 0.5620 - val_loss: 0.8799 - val_accuracy: 0.7034\n",
            "Epoch 5/20\n",
            "1950/1950 [==============================] - 36s 18ms/step - loss: 1.0355 - accuracy: 0.6591 - val_loss: 0.6772 - val_accuracy: 0.7792\n",
            "Epoch 6/20\n",
            "1950/1950 [==============================] - 35s 18ms/step - loss: 0.8064 - accuracy: 0.7357 - val_loss: 0.4261 - val_accuracy: 0.8718\n",
            "Epoch 7/20\n",
            "1950/1950 [==============================] - 37s 19ms/step - loss: 0.6380 - accuracy: 0.7940 - val_loss: 0.3486 - val_accuracy: 0.9033\n",
            "Epoch 8/20\n",
            "1950/1950 [==============================] - 36s 18ms/step - loss: 0.5206 - accuracy: 0.8307 - val_loss: 0.2923 - val_accuracy: 0.9210\n",
            "Epoch 9/20\n",
            "1950/1950 [==============================] - 36s 18ms/step - loss: 0.4334 - accuracy: 0.8586 - val_loss: 0.2280 - val_accuracy: 0.9310\n",
            "Epoch 10/20\n",
            "1950/1950 [==============================] - 37s 19ms/step - loss: 0.3646 - accuracy: 0.8821 - val_loss: 0.2567 - val_accuracy: 0.9316\n",
            "Epoch 11/20\n",
            "1950/1950 [==============================] - 36s 19ms/step - loss: 0.3191 - accuracy: 0.8988 - val_loss: 0.1981 - val_accuracy: 0.9462\n",
            "Epoch 12/20\n",
            "1950/1950 [==============================] - 34s 18ms/step - loss: 0.2838 - accuracy: 0.9108 - val_loss: 0.1735 - val_accuracy: 0.9509\n",
            "Epoch 13/20\n",
            "1950/1950 [==============================] - 36s 18ms/step - loss: 0.2446 - accuracy: 0.9234 - val_loss: 0.1698 - val_accuracy: 0.9537\n",
            "Epoch 14/20\n",
            "1950/1950 [==============================] - 36s 19ms/step - loss: 0.2212 - accuracy: 0.9323 - val_loss: 0.1625 - val_accuracy: 0.9544\n",
            "Epoch 15/20\n",
            "1950/1950 [==============================] - 36s 18ms/step - loss: 0.2007 - accuracy: 0.9378 - val_loss: 0.1649 - val_accuracy: 0.9613\n",
            "Epoch 16/20\n",
            "1950/1950 [==============================] - 36s 18ms/step - loss: 0.1880 - accuracy: 0.9411 - val_loss: 0.1594 - val_accuracy: 0.9571\n",
            "Epoch 17/20\n",
            "1950/1950 [==============================] - 35s 18ms/step - loss: 0.1685 - accuracy: 0.9487 - val_loss: 0.1619 - val_accuracy: 0.9602\n",
            "Epoch 18/20\n",
            "1950/1950 [==============================] - 36s 18ms/step - loss: 0.1571 - accuracy: 0.9511 - val_loss: 0.1283 - val_accuracy: 0.9656\n",
            "Epoch 19/20\n",
            "1950/1950 [==============================] - 74s 38ms/step - loss: 0.1467 - accuracy: 0.9556 - val_loss: 0.1662 - val_accuracy: 0.9618\n",
            "Epoch 20/20\n",
            "1950/1950 [==============================] - 36s 18ms/step - loss: 0.1373 - accuracy: 0.9583 - val_loss: 0.1498 - val_accuracy: 0.9629\n"]
        }
      ]
    },
    {
      "cell_type": "markdown",
      "source": [
        "## Part 3: Results\n",
        "\n",
        "Please see the full breakdown of results in the PDF document including my slides. I give a fuller analysis there and show how I exceed the 95% validation score benchmark."
      ],
      "metadata": {
        "id": "hrLQ2XwJew_Q"
      }
    }
  ]
}
